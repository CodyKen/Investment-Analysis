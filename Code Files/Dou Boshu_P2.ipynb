{
 "cells": [
  {
   "cell_type": "markdown",
   "metadata": {},
   "source": [
    "# FIN3080 Assignment 2\n",
    "#### 122090091 Dou Boshu"
   ]
  },
  {
   "cell_type": "markdown",
   "metadata": {},
   "source": [
    "---"
   ]
  },
  {
   "cell_type": "markdown",
   "metadata": {},
   "source": [
    "## Problem 1&2"
   ]
  },
  {
   "cell_type": "markdown",
   "metadata": {},
   "source": [
    "### preparation session"
   ]
  },
  {
   "cell_type": "markdown",
   "metadata": {},
   "source": [
    "Reading Data:"
   ]
  },
  {
   "cell_type": "code",
   "execution_count": 46,
   "metadata": {},
   "outputs": [],
   "source": [
    "import pandas as pd\n",
    "import numpy as np\n",
    "import matplotlib.pyplot as plt\n",
    "import statsmodels.api as sm\n",
    "\n",
    "# 恢复默认设置\n",
    "pd.reset_option('display.max_columns')\n",
    "pd.reset_option('display.max_rows')\n",
    "\n",
    "# 读取包含股价数据的表格\n",
    "df_price = pd.read_excel('/Users/douboshu/Documents/大二下/FIN3080/AS2/Monthly Stock Price  Returns112316973/TRD_Mnth_AS2.xlsx')\n",
    "# 读取包含Net_Assets和ROE的表格\n",
    "df_index_per_Share = pd.read_excel('/Users/douboshu/Documents/大二下/FIN3080/AS2/Index per Share(Merge Query)112839326/Index_per_Share(Merge Query)_AS2.xlsx')\n",
    "# 读取包含风险的表格\n",
    "df_Risk = pd.read_excel('/Users/douboshu/Documents/大二下/FIN3080/AS2/Risk Factor Indices of Individual Stocks (250- Trading Day Rolling Samples)150932241/Risk_Factors_AS2.xlsx')\n"
   ]
  },
  {
   "cell_type": "markdown",
   "metadata": {},
   "source": [
    "Cleaning Data:"
   ]
  },
  {
   "cell_type": "code",
   "execution_count": 47,
   "metadata": {},
   "outputs": [],
   "source": [
    "# 删除第一行单位数据\n",
    "df_price = df_price.drop(0)\n",
    "df_index_per_Share = df_index_per_Share.drop(0)\n",
    "df_Risk = df_Risk.drop(0)\n",
    "\n",
    "\n",
    "# 重置索引\n",
    "df_price = df_price.reset_index(drop=True)\n",
    "df_index_per_Share = df_index_per_Share.reset_index(drop=True)\n",
    "df_Risk = df_Risk.reset_index(drop=True)\n",
    "\n",
    "# 改变数据类型\n",
    "# df_price\n",
    "df_price['Stock_Code'] = df_price['Stock_Code'].astype('string',errors='ignore')\n",
    "df_price['Monthly_Closing_Price'] = df_price['Monthly_Closing_Price'].astype('float',errors='ignore')\n",
    "df_price['Monthly_Return'] = df_price['Monthly_Return'].astype('float',errors='ignore')\n",
    "df_price['Trading_Month'] = df_price['Trading_Month'].astype('string', errors='ignore')\n",
    "\n",
    "# df_index_per_Share\n",
    "df_index_per_Share['Stock_Code'] = df_index_per_Share['Stock_Code'].astype('string',errors='ignore')\n",
    "df_index_per_Share['Stock_Short_Name'] = df_index_per_Share['Stock_Short_Name'].astype('string',errors='ignore')\n",
    "df_index_per_Share['Ending_Date'] = df_index_per_Share['Ending_Date'].astype('string',errors='ignore')\n",
    "df_index_per_Share['Statement_Type'] = df_index_per_Share['Statement_Type'].astype('string',errors='ignore')\n",
    "df_index_per_Share['Net_Assets_per_Share'] = df_index_per_Share['Net_Assets_per_Share'].astype('float',errors='ignore')\n",
    "df_index_per_Share['ROE_TTM'] = df_index_per_Share['ROE_TTM'].astype('float',errors='ignore')\n",
    "\n",
    "# df_Risk\n",
    "df_Risk['Stock_Code'] = df_Risk['Stock_Code'].astype('string',errors='ignore')\n",
    "df_Risk['Trading_Date'] = df_Risk['Trading_Date'].astype('string',errors='ignore')\n",
    "df_Risk['Return_Volatility'] = df_Risk['Return_Volatility'].astype('float',errors='ignore')\n",
    "\n",
    "# 删除包含数值为 'B' 的元素所在的行\n",
    "df_index_per_Share = df_index_per_Share.drop(df_index_per_Share[df_index_per_Share['Statement_Type'] == 'B'].index)\n",
    "\n",
    "# 重置索引\n",
    "df_index_per_Share = df_index_per_Share.reset_index(drop=True)\n"
   ]
  },
  {
   "cell_type": "markdown",
   "metadata": {},
   "source": [
    "Writing get_data() Function for df_price to generate lagged variables:"
   ]
  },
  {
   "cell_type": "code",
   "execution_count": 48,
   "metadata": {},
   "outputs": [
    {
     "name": "stdout",
     "output_type": "stream",
     "text": [
      "       Stock_Code Trading_Month  Monthly_Closing_Price  Monthly_Return  \\\n",
      "0          000001       2009-12                  24.37        0.004534   \n",
      "1          000001       2010-01                  21.70       -0.109561   \n",
      "2          000001       2010-02                  22.45        0.034562   \n",
      "3          000001       2010-03                  23.20        0.033408   \n",
      "4          000001       2010-04                  20.56       -0.113793   \n",
      "...           ...           ...                    ...             ...   \n",
      "542338     873726       2023-10                  21.80             NaN   \n",
      "542339     873726       2023-11                  29.15        0.337156   \n",
      "542340     873726       2023-12                  43.64        0.497084   \n",
      "542341     873833       2023-11                  14.25             NaN   \n",
      "542342     873833       2023-12                  15.06        0.056842   \n",
      "\n",
      "       Ending_Date  \n",
      "0       2009-09-30  \n",
      "1       2009-12-31  \n",
      "2       2009-12-31  \n",
      "3       2009-12-31  \n",
      "4       2010-03-31  \n",
      "...            ...  \n",
      "542338  2023-09-30  \n",
      "542339  2023-09-30  \n",
      "542340  2023-09-30  \n",
      "542341  2023-09-30  \n",
      "542342  2023-09-30  \n",
      "\n",
      "[542343 rows x 5 columns]\n"
     ]
    }
   ],
   "source": [
    "def get_date(p_date):\n",
    "    old_year = p_date[:4]\n",
    "    old_year = int(old_year)\n",
    "    str_old_month = p_date[-2:]\n",
    "    \n",
    "    if str_old_month in ['01', '02', '03']:\n",
    "        new_year = old_year - 1  # 去年的第4季度, year_12_31\n",
    "        new_month = '12'\n",
    "        new_day = '31'\n",
    "    elif str_old_month in ['04', '05', '06']:\n",
    "        new_year = old_year   # 今年的第1季度, year_03_31\n",
    "        new_month = '03'\n",
    "        new_day = '31'\n",
    "    elif str_old_month in ['07', '08', '09']:\n",
    "        new_year = old_year   # 今年的第2季度, year_06_30\n",
    "        new_month = '06'\n",
    "        new_day = '30'\n",
    "    elif str_old_month in ['10', '11', '12']:\n",
    "        new_year = old_year  # 今年的第3季度, year_09_30\n",
    "        new_month = '09'\n",
    "        new_day = '30'\n",
    "\n",
    "    new_date = str(new_year) + '-' + new_month + '-' + new_day\n",
    "    return new_date\n",
    "\n",
    "df_price_2 = df_price.copy()\n",
    "df_price_2['Ending_Date'] = df_price_2['Trading_Month'].apply(get_date)\n",
    "df_price_2['Ending_Date'] = df_price_2['Ending_Date'].astype('string',errors='ignore')\n",
    "print(df_price_2)"
   ]
  },
  {
   "cell_type": "markdown",
   "metadata": {},
   "source": [
    "Merging"
   ]
  },
  {
   "cell_type": "code",
   "execution_count": 49,
   "metadata": {},
   "outputs": [
    {
     "name": "stdout",
     "output_type": "stream",
     "text": [
      "       Stock_Code Trading_Month  Monthly_Closing_Price  Monthly_Return  \\\n",
      "0          000001       2009-12                  24.37        0.004534   \n",
      "1          000001       2010-01                  21.70       -0.109561   \n",
      "2          000001       2010-02                  22.45        0.034562   \n",
      "3          000001       2010-03                  23.20        0.033408   \n",
      "4          000001       2010-04                  20.56       -0.113793   \n",
      "...           ...           ...                    ...             ...   \n",
      "542338     873726       2023-10                  21.80             NaN   \n",
      "542339     873726       2023-11                  29.15        0.337156   \n",
      "542340     873726       2023-12                  43.64        0.497084   \n",
      "542341     873833       2023-11                  14.25             NaN   \n",
      "542342     873833       2023-12                  15.06        0.056842   \n",
      "\n",
      "       Ending_Date Stock_Short_Name Statement_Type  Net_Assets_per_Share  \\\n",
      "0       2009-09-30             SFZA              A              6.146785   \n",
      "1       2009-12-31             SFZA              A              6.591545   \n",
      "2       2009-12-31             SFZA              A              6.591545   \n",
      "3       2009-12-31             SFZA              A              6.591545   \n",
      "4       2010-03-31             SFZA              A              7.119722   \n",
      "...            ...              ...            ...                   ...   \n",
      "542338  2023-09-30             ZZDJ              A              4.578955   \n",
      "542339  2023-09-30             ZZDJ              A              4.578955   \n",
      "542340  2023-09-30             ZZDJ              A              4.578955   \n",
      "542341  2023-09-30             <NA>           <NA>                   NaN   \n",
      "542342  2023-09-30             <NA>           <NA>                   NaN   \n",
      "\n",
      "         ROE_TTM  \n",
      "0       0.049887  \n",
      "1       0.272887  \n",
      "2       0.272887  \n",
      "3       0.272887  \n",
      "4       0.280066  \n",
      "...          ...  \n",
      "542338  0.593777  \n",
      "542339  0.593777  \n",
      "542340  0.593777  \n",
      "542341       NaN  \n",
      "542342       NaN  \n",
      "\n",
      "[542343 rows x 9 columns]\n"
     ]
    }
   ],
   "source": [
    "# 合并 df_price_2 与 df_index_per_Share\n",
    "df_left_join_result = pd.merge(df_price_2, df_index_per_Share, on=['Stock_Code', 'Ending_Date',], how='left')\n",
    "\n",
    "# 重置索引\n",
    "df_left_join_result = df_left_join_result.reset_index(drop=True)\n",
    "print(df_left_join_result)"
   ]
  },
  {
   "cell_type": "markdown",
   "metadata": {},
   "source": [
    "Calculating: PB\n",
    "Exclude records with P/B ratios less than P/B ratio’s 5th percentile or greater than P/B ratio’s 95th percentile."
   ]
  },
  {
   "cell_type": "code",
   "execution_count": 50,
   "metadata": {},
   "outputs": [
    {
     "name": "stdout",
     "output_type": "stream",
     "text": [
      "       Stock_Code Trading_Month  Monthly_Closing_Price  Monthly_Return  \\\n",
      "0          000001       2009-12                  24.37        0.004534   \n",
      "1          000001       2010-01                  21.70       -0.109561   \n",
      "2          000001       2010-02                  22.45        0.034562   \n",
      "3          000001       2010-03                  23.20        0.033408   \n",
      "4          000001       2010-04                  20.56       -0.113793   \n",
      "...           ...           ...                    ...             ...   \n",
      "542338     873726       2023-10                  21.80             NaN   \n",
      "542339     873726       2023-11                  29.15        0.337156   \n",
      "542340     873726       2023-12                  43.64        0.497084   \n",
      "542341     873833       2023-11                  14.25             NaN   \n",
      "542342     873833       2023-12                  15.06        0.056842   \n",
      "\n",
      "       Ending_Date Stock_Short_Name Statement_Type  Net_Assets_per_Share  \\\n",
      "0       2009-09-30             SFZA              A              6.146785   \n",
      "1       2009-12-31             SFZA              A              6.591545   \n",
      "2       2009-12-31             SFZA              A              6.591545   \n",
      "3       2009-12-31             SFZA              A              6.591545   \n",
      "4       2010-03-31             SFZA              A              7.119722   \n",
      "...            ...              ...            ...                   ...   \n",
      "542338  2023-09-30             ZZDJ              A              4.578955   \n",
      "542339  2023-09-30             ZZDJ              A              4.578955   \n",
      "542340  2023-09-30             ZZDJ              A              4.578955   \n",
      "542341  2023-09-30             <NA>           <NA>                   NaN   \n",
      "542342  2023-09-30             <NA>           <NA>                   NaN   \n",
      "\n",
      "         ROE_TTM       P/B  \n",
      "0       0.049887  3.964674  \n",
      "1       0.272887  3.292096  \n",
      "2       0.272887  3.405878  \n",
      "3       0.272887  3.519660  \n",
      "4       0.280066  2.887753  \n",
      "...          ...       ...  \n",
      "542338  0.593777  4.760912  \n",
      "542339  0.593777  6.366081  \n",
      "542340  0.593777  9.530559  \n",
      "542341       NaN       NaN  \n",
      "542342       NaN       NaN  \n",
      "\n",
      "[542343 rows x 10 columns]\n"
     ]
    }
   ],
   "source": [
    "df_left_join_result['P/B'] = df_left_join_result['Monthly_Closing_Price'] / df_left_join_result['Net_Assets_per_Share']\n",
    "print(df_left_join_result)"
   ]
  },
  {
   "cell_type": "code",
   "execution_count": 51,
   "metadata": {},
   "outputs": [
    {
     "name": "stdout",
     "output_type": "stream",
     "text": [
      "       Stock_Code Trading_Month  Monthly_Closing_Price  Monthly_Return  \\\n",
      "0          000001       2009-12                  24.37        0.004534   \n",
      "1          000001       2010-01                  21.70       -0.109561   \n",
      "2          000001       2010-02                  22.45        0.034562   \n",
      "3          000001       2010-03                  23.20        0.033408   \n",
      "4          000001       2010-04                  20.56       -0.113793   \n",
      "...           ...           ...                    ...             ...   \n",
      "514079     873665       2023-10                   5.69       -0.032313   \n",
      "514080     873665       2023-11                   8.92        0.567663   \n",
      "514081     873665       2023-12                  12.20        0.367713   \n",
      "514082     873726       2023-11                  29.15        0.337156   \n",
      "514083     873726       2023-12                  43.64        0.497084   \n",
      "\n",
      "       Ending_Date Stock_Short_Name Statement_Type  Net_Assets_per_Share  \\\n",
      "0       2009-09-30             SFZA              A              6.146785   \n",
      "1       2009-12-31             SFZA              A              6.591545   \n",
      "2       2009-12-31             SFZA              A              6.591545   \n",
      "3       2009-12-31             SFZA              A              6.591545   \n",
      "4       2010-03-31             SFZA              A              7.119722   \n",
      "...            ...              ...            ...                   ...   \n",
      "514079  2023-09-30             KQGF              A              5.061653   \n",
      "514080  2023-09-30             KQGF              A              5.061653   \n",
      "514081  2023-09-30             KQGF              A              5.061653   \n",
      "514082  2023-09-30             ZZDJ              A              4.578955   \n",
      "514083  2023-09-30             ZZDJ              A              4.578955   \n",
      "\n",
      "         ROE_TTM       P/B  \n",
      "0       0.049887  3.964674  \n",
      "1       0.272887  3.292096  \n",
      "2       0.272887  3.405878  \n",
      "3       0.272887  3.519660  \n",
      "4       0.280066  2.887753  \n",
      "...          ...       ...  \n",
      "514079  0.124279  1.124139  \n",
      "514080  0.124279  1.762270  \n",
      "514081  0.124279  2.410280  \n",
      "514082  0.593777  6.366081  \n",
      "514083  0.593777  9.530559  \n",
      "\n",
      "[514084 rows x 10 columns]\n"
     ]
    }
   ],
   "source": [
    "# 删除NaN值\n",
    "df_left_join_result_cleaned = df_left_join_result.dropna().reset_index(drop=True)\n",
    "print(df_left_join_result_cleaned)"
   ]
  },
  {
   "cell_type": "code",
   "execution_count": 52,
   "metadata": {},
   "outputs": [
    {
     "name": "stdout",
     "output_type": "stream",
     "text": [
      "       Stock_Code Trading_Month  Monthly_Closing_Price  Monthly_Return  \\\n",
      "0          000001       2009-12                  24.37        0.004534   \n",
      "1          000001       2010-01                  21.70       -0.109561   \n",
      "2          000001       2010-02                  22.45        0.034562   \n",
      "3          000001       2010-03                  23.20        0.033408   \n",
      "4          000001       2010-04                  20.56       -0.113793   \n",
      "...           ...           ...                    ...             ...   \n",
      "462669     873665       2023-10                   5.69       -0.032313   \n",
      "462670     873665       2023-11                   8.92        0.567663   \n",
      "462671     873665       2023-12                  12.20        0.367713   \n",
      "462672     873726       2023-11                  29.15        0.337156   \n",
      "462673     873726       2023-12                  43.64        0.497084   \n",
      "\n",
      "       Ending_Date Stock_Short_Name Statement_Type  Net_Assets_per_Share  \\\n",
      "0       2009-09-30             SFZA              A              6.146785   \n",
      "1       2009-12-31             SFZA              A              6.591545   \n",
      "2       2009-12-31             SFZA              A              6.591545   \n",
      "3       2009-12-31             SFZA              A              6.591545   \n",
      "4       2010-03-31             SFZA              A              7.119722   \n",
      "...            ...              ...            ...                   ...   \n",
      "462669  2023-09-30             KQGF              A              5.061653   \n",
      "462670  2023-09-30             KQGF              A              5.061653   \n",
      "462671  2023-09-30             KQGF              A              5.061653   \n",
      "462672  2023-09-30             ZZDJ              A              4.578955   \n",
      "462673  2023-09-30             ZZDJ              A              4.578955   \n",
      "\n",
      "         ROE_TTM       P/B  \n",
      "0       0.049887  3.964674  \n",
      "1       0.272887  3.292096  \n",
      "2       0.272887  3.405878  \n",
      "3       0.272887  3.519660  \n",
      "4       0.280066  2.887753  \n",
      "...          ...       ...  \n",
      "462669  0.124279  1.124139  \n",
      "462670  0.124279  1.762270  \n",
      "462671  0.124279  2.410280  \n",
      "462672  0.593777  6.366081  \n",
      "462673  0.593777  9.530559  \n",
      "\n",
      "[462674 rows x 10 columns]\n"
     ]
    }
   ],
   "source": [
    "df_left_join_result_cleaned2 = df_left_join_result_cleaned.copy()\n",
    "\n",
    "# 计算 P/B 比率的第 5 和第 95 百分位数\n",
    "pb_5th_percentile = df_left_join_result_cleaned2['P/B'].quantile(0.05)\n",
    "pb_95th_percentile = df_left_join_result_cleaned2['P/B'].quantile(0.95)\n",
    "\n",
    "# 根据条件筛选 DataFrame\n",
    "filtered_df_left_join_result_cleaned = df_left_join_result_cleaned2[(df_left_join_result_cleaned2['P/B'] >= pb_5th_percentile) & (df_left_join_result_cleaned2['P/B'] <= pb_95th_percentile)]\n",
    "filtered_df_left_join_result_cleaned = filtered_df_left_join_result_cleaned.reset_index(drop=True)\n",
    "\n",
    "print(filtered_df_left_join_result_cleaned)"
   ]
  },
  {
   "cell_type": "markdown",
   "metadata": {},
   "source": [
    "### Problem 1"
   ]
  },
  {
   "cell_type": "code",
   "execution_count": 53,
   "metadata": {},
   "outputs": [
    {
     "name": "stdout",
     "output_type": "stream",
     "text": [
      "     Stock_Code Trading_Month  Monthly_Closing_Price  Monthly_Return  \\\n",
      "0        000001       2010-12                  15.79       -0.036608   \n",
      "1        000002       2010-12                   8.22        0.011070   \n",
      "2        000004       2010-12                  12.04       -0.063764   \n",
      "3        000005       2010-12                   3.67       -0.046753   \n",
      "4        000006       2010-12                   6.97        0.013081   \n",
      "...         ...           ...                    ...             ...   \n",
      "1462     601958       2010-12                  24.24        0.012954   \n",
      "1463     601988       2010-12                   3.23       -0.012232   \n",
      "1464     601991       2010-12                   6.09       -0.077273   \n",
      "1465     601998       2010-12                   5.25       -0.033149   \n",
      "1466     601999       2010-12                  10.60       -0.045905   \n",
      "\n",
      "     Ending_Date Stock_Short_Name Statement_Type  Net_Assets_per_Share  \\\n",
      "0     2010-09-30             SFZA              A              9.223531   \n",
      "1     2010-09-30              WKA              A              4.487111   \n",
      "2     2010-09-30            ST GN              A              1.505125   \n",
      "3     2010-09-30             SJXY              A              0.738516   \n",
      "4     2010-09-30             SZYA              A              2.860425   \n",
      "...          ...              ...            ...                   ...   \n",
      "1462  2010-09-30             JMGF              A              4.126673   \n",
      "1463  2010-09-30             ZGYH              A              2.355607   \n",
      "1464  2010-09-30             DTFD              A              3.004893   \n",
      "1465  2010-09-30             ZXYH              A              3.100966   \n",
      "1466  2010-09-30             CBCM              A              2.769001   \n",
      "\n",
      "       ROE_TTM       P/B lagged_date  \n",
      "0     0.239194  1.711926  2010-12-31  \n",
      "1     0.143634  1.831914  2010-12-31  \n",
      "2     0.229803  7.999336  2010-12-31  \n",
      "3    -0.090036  4.969425  2010-12-31  \n",
      "4     0.141314  2.436701  2010-12-31  \n",
      "...        ...       ...         ...  \n",
      "1462  0.049726  5.873981  2010-12-31  \n",
      "1463  0.183965  1.371196  2010-12-31  \n",
      "1464  0.093324  2.026694  2010-12-31  \n",
      "1465  0.183411  1.693021  2010-12-31  \n",
      "1466  0.088044  3.828095  2010-12-31  \n",
      "\n",
      "[1467 rows x 11 columns]\n"
     ]
    }
   ],
   "source": [
    "\n",
    "df_dec_2010 = filtered_df_left_join_result_cleaned[filtered_df_left_join_result_cleaned['Trading_Month'] == '2010-12']\n",
    "df_dec_2010 = df_dec_2010.reset_index(drop=True)\n",
    "\n",
    "# 创建新的一列，并设置所有值为 \"2010-12-31\"\n",
    "df_dec_2010 = df_dec_2010.assign(lagged_date=\"2010-12-31\")\n",
    "\n",
    "# 将lagged_date列的数据类型转换为 string\n",
    "df_dec_2010['lagged_date'] = df_dec_2010['lagged_date'].astype('string',errors='ignore')\n",
    "\n",
    "# 打印新的 DataFrame\n",
    "print(df_dec_2010)"
   ]
  },
  {
   "cell_type": "code",
   "execution_count": 54,
   "metadata": {},
   "outputs": [
    {
     "name": "stdout",
     "output_type": "stream",
     "text": [
      "     Stock_Code Stock_Short_Name       P/B   ROE_TTM  Return_Volatility\n",
      "0        000001             SFZA  1.711926  0.239194           0.375077\n",
      "1        000002              WKA  1.831914  0.143634           0.360978\n",
      "2        000004            ST GN  7.999336  0.229803           0.382118\n",
      "3        000005             SJXY  4.969425 -0.090036           0.409691\n",
      "4        000006             SZYA  2.436701  0.141314           0.502408\n",
      "...         ...              ...       ...       ...                ...\n",
      "1462     601958             JMGF  5.873981  0.049726           0.517640\n",
      "1463     601988             ZGYH  1.371196  0.183965           0.201127\n",
      "1464     601991             DTFD  2.026694  0.093324           0.285140\n",
      "1465     601998             ZXYH  1.693021  0.183411           0.357737\n",
      "1466     601999             CBCM  3.828095  0.088044           0.419746\n",
      "\n",
      "[1467 rows x 5 columns]\n"
     ]
    }
   ],
   "source": [
    "# 改变df_Risk \"Trading_Date\"的名字为 \"lagged_date\"\n",
    "df_Risk = df_Risk.rename(columns={'Trading_Date': 'lagged_date'})\n",
    "\n",
    "# 合并 df_dec_2010 与 df_Risk\n",
    "df_dec_2010 = pd.merge(df_dec_2010, df_Risk, on=['Stock_Code', 'lagged_date'], how='left')\n",
    "\n",
    "# 将df_dec_2010的P/B，ROE_TTM，Return_Volatility提取出来\n",
    "df_P1_ans_table = df_dec_2010[['Stock_Code', 'Stock_Short_Name', 'P/B', 'ROE_TTM', 'Return_Volatility']]\n",
    "print(df_P1_ans_table)"
   ]
  },
  {
   "cell_type": "code",
   "execution_count": 55,
   "metadata": {},
   "outputs": [
    {
     "name": "stdout",
     "output_type": "stream",
     "text": [
      "                            OLS Regression Results                            \n",
      "==============================================================================\n",
      "Dep. Variable:                    P/B   R-squared:                       0.138\n",
      "Model:                            OLS   Adj. R-squared:                  0.137\n",
      "Method:                 Least Squares   F-statistic:                     110.1\n",
      "Date:                Fri, 29 Mar 2024   Prob (F-statistic):           4.61e-45\n",
      "Time:                        19:27:45   Log-Likelihood:                -2799.7\n",
      "No. Observations:                1373   AIC:                             5605.\n",
      "Df Residuals:                    1370   BIC:                             5621.\n",
      "Df Model:                           2                                         \n",
      "Covariance Type:            nonrobust                                         \n",
      "=====================================================================================\n",
      "                        coef    std err          t      P>|t|      [0.025      0.975]\n",
      "-------------------------------------------------------------------------------------\n",
      "const                 0.1168      0.280      0.417      0.677      -0.432       0.666\n",
      "ROE_TTM               1.5873      0.404      3.924      0.000       0.794       2.381\n",
      "Return_Volatility     8.6921      0.608     14.299      0.000       7.500       9.885\n",
      "==============================================================================\n",
      "Omnibus:                      107.085   Durbin-Watson:                   1.801\n",
      "Prob(Omnibus):                  0.000   Jarque-Bera (JB):              142.743\n",
      "Skew:                           0.655   Prob(JB):                     1.01e-31\n",
      "Kurtosis:                       3.882   Cond. No.                         14.6\n",
      "==============================================================================\n",
      "\n",
      "Notes:\n",
      "[1] Standard Errors assume that the covariance matrix of the errors is correctly specified.\n"
     ]
    },
    {
     "name": "stderr",
     "output_type": "stream",
     "text": [
      "/var/folders/8p/_lylf4tn2yz39y4qkw9vg1jw0000gn/T/ipykernel_6699/2076390562.py:2: SettingWithCopyWarning: \n",
      "A value is trying to be set on a copy of a slice from a DataFrame\n",
      "\n",
      "See the caveats in the documentation: https://pandas.pydata.org/pandas-docs/stable/user_guide/indexing.html#returning-a-view-versus-a-copy\n",
      "  df_P1_ans_table.dropna(inplace=True)\n"
     ]
    }
   ],
   "source": [
    "# 删除包含缺失值的行\n",
    "df_P1_ans_table.dropna(inplace=True)\n",
    "\n",
    "# 提取自变量（ROE_TTM 和 Return_Volatility）和因变量（P/B）\n",
    "X = df_P1_ans_table[['ROE_TTM', 'Return_Volatility']]\n",
    "y = df_P1_ans_table['P/B']\n",
    "\n",
    "# 添加常数项到自变量中\n",
    "X = sm.add_constant(X)\n",
    "\n",
    "# 拟合线性回归模型\n",
    "model = sm.OLS(y, X).fit()\n",
    "\n",
    "# 打印回归结果\n",
    "print(model.summary())"
   ]
  },
  {
   "cell_type": "markdown",
   "metadata": {},
   "source": [
    "### Problem 2"
   ]
  },
  {
   "cell_type": "code",
   "execution_count": 56,
   "metadata": {},
   "outputs": [
    {
     "name": "stdout",
     "output_type": "stream",
     "text": [
      "       Stock_Code Stock_Short_Name Trading_Month       P/B  Monthly_Return\n",
      "0          000001             SFZA       2009-12  3.964674        0.004534\n",
      "1          000001             SFZA       2010-01  3.292096       -0.109561\n",
      "2          000001             SFZA       2010-02  3.405878        0.034562\n",
      "3          000001             SFZA       2010-03  3.519660        0.033408\n",
      "4          000001             SFZA       2010-04  2.887753       -0.113793\n",
      "...           ...              ...           ...       ...             ...\n",
      "462669     873665             KQGF       2023-10  1.124139       -0.032313\n",
      "462670     873665             KQGF       2023-11  1.762270        0.567663\n",
      "462671     873665             KQGF       2023-12  2.410280        0.367713\n",
      "462672     873726             ZZDJ       2023-11  6.366081        0.337156\n",
      "462673     873726             ZZDJ       2023-12  9.530559        0.497084\n",
      "\n",
      "[462674 rows x 5 columns]\n"
     ]
    }
   ],
   "source": [
    "# 打印全部数据\n",
    "pd.set_option('display.max_rows', None)\n",
    "pd.set_option('display.max_columns', None)\n",
    "pd.set_option('display.width', None)\n",
    "pd.set_option('display.max_colwidth', None)\n",
    "\n",
    "# 恢复默认设置\n",
    "pd.reset_option('display.max_columns')\n",
    "pd.reset_option('display.max_rows')\n",
    "\n",
    "\n",
    "# 把filtered_df_left_join_result_cleaned的Stock_Code，Stock_Short_Name,Trading_Month,P/B提取出来\n",
    "df_P2_ans_table_raw = filtered_df_left_join_result_cleaned[['Stock_Code', 'Stock_Short_Name', 'Trading_Month', 'P/B', 'Monthly_Return']]\n",
    "print(df_P2_ans_table_raw)"
   ]
  },
  {
   "cell_type": "code",
   "execution_count": 57,
   "metadata": {},
   "outputs": [
    {
     "name": "stdout",
     "output_type": "stream",
     "text": [
      "       Stock_Code Stock_Short_Name Trading_Month       P/B  Monthly_Return  \\\n",
      "0          000001             SFZA       2009-12  3.964674        0.004534   \n",
      "1          000001             SFZA       2010-01  3.292096       -0.109561   \n",
      "2          000001             SFZA       2010-02  3.405878        0.034562   \n",
      "3          000001             SFZA       2010-03  3.519660        0.033408   \n",
      "4          000001             SFZA       2010-04  2.887753       -0.113793   \n",
      "...           ...              ...           ...       ...             ...   \n",
      "462669     873665             KQGF       2023-10  1.124139       -0.032313   \n",
      "462670     873665             KQGF       2023-11  1.762270        0.567663   \n",
      "462671     873665             KQGF       2023-12  2.410280        0.367713   \n",
      "462672     873726             ZZDJ       2023-11  6.366081        0.337156   \n",
      "462673     873726             ZZDJ       2023-12  9.530559        0.497084   \n",
      "\n",
      "        last_month_P/B  \n",
      "0                  NaN  \n",
      "1             3.964674  \n",
      "2             3.292096  \n",
      "3             3.405878  \n",
      "4             3.519660  \n",
      "...                ...  \n",
      "462669             NaN  \n",
      "462670        1.124139  \n",
      "462671        1.762270  \n",
      "462672             NaN  \n",
      "462673        6.366081  \n",
      "\n",
      "[462674 rows x 6 columns]\n"
     ]
    },
    {
     "name": "stderr",
     "output_type": "stream",
     "text": [
      "/var/folders/8p/_lylf4tn2yz39y4qkw9vg1jw0000gn/T/ipykernel_6699/3689397010.py:2: SettingWithCopyWarning: \n",
      "A value is trying to be set on a copy of a slice from a DataFrame.\n",
      "Try using .loc[row_indexer,col_indexer] = value instead\n",
      "\n",
      "See the caveats in the documentation: https://pandas.pydata.org/pandas-docs/stable/user_guide/indexing.html#returning-a-view-versus-a-copy\n",
      "  df_P2_ans_table_raw['last_month_P/B'] = df_P2_ans_table_raw.groupby('Stock_Code')['P/B'].shift(1)\n"
     ]
    }
   ],
   "source": [
    "# 按照股票代码分组，并计算每个股票的上一个月的 P/B\n",
    "df_P2_ans_table_raw['last_month_P/B'] = df_P2_ans_table_raw.groupby('Stock_Code')['P/B'].shift(1)\n",
    "print(df_P2_ans_table_raw)"
   ]
  },
  {
   "cell_type": "code",
   "execution_count": 58,
   "metadata": {},
   "outputs": [
    {
     "name": "stdout",
     "output_type": "stream",
     "text": [
      "       Stock_Code Stock_Short_Name Trading_Month       P/B  Monthly_Return  \\\n",
      "0          000001             SFZA       2010-01  3.292096       -0.109561   \n",
      "1          000001             SFZA       2010-02  3.405878        0.034562   \n",
      "2          000001             SFZA       2010-03  3.519660        0.033408   \n",
      "3          000001             SFZA       2010-04  2.887753       -0.113793   \n",
      "4          000001             SFZA       2010-05  2.459366       -0.148346   \n",
      "...           ...              ...           ...       ...             ...   \n",
      "457361     873593             DZKJ       2023-11  7.219816        0.880506   \n",
      "457362     873593             DZKJ       2023-12  5.646455       -0.217923   \n",
      "457363     873665             KQGF       2023-11  1.762270        0.567663   \n",
      "457364     873665             KQGF       2023-12  2.410280        0.367713   \n",
      "457365     873726             ZZDJ       2023-12  9.530559        0.497084   \n",
      "\n",
      "        last_month_P/B  \n",
      "0             3.964674  \n",
      "1             3.292096  \n",
      "2             3.405878  \n",
      "3             3.519660  \n",
      "4             2.887753  \n",
      "...                ...  \n",
      "457361        3.839295  \n",
      "457362        7.219816  \n",
      "457363        1.124139  \n",
      "457364        1.762270  \n",
      "457365        6.366081  \n",
      "\n",
      "[457366 rows x 6 columns]\n"
     ]
    },
    {
     "name": "stderr",
     "output_type": "stream",
     "text": [
      "/var/folders/8p/_lylf4tn2yz39y4qkw9vg1jw0000gn/T/ipykernel_6699/1488467853.py:2: SettingWithCopyWarning: \n",
      "A value is trying to be set on a copy of a slice from a DataFrame\n",
      "\n",
      "See the caveats in the documentation: https://pandas.pydata.org/pandas-docs/stable/user_guide/indexing.html#returning-a-view-versus-a-copy\n",
      "  df_P2_ans_table_raw.dropna(inplace=True)\n"
     ]
    }
   ],
   "source": [
    "# 删除包含缺失值的行同时恢复索引\n",
    "df_P2_ans_table_raw.dropna(inplace=True)\n",
    "\n",
    "# 恢复索引\n",
    "df_P2_ans_table_raw = df_P2_ans_table_raw.reset_index(drop=True)\n",
    "\n",
    "print(df_P2_ans_table_raw)"
   ]
  },
  {
   "cell_type": "code",
   "execution_count": 59,
   "metadata": {},
   "outputs": [
    {
     "name": "stdout",
     "output_type": "stream",
     "text": [
      "       Stock_Code Stock_Short_Name Trading_Month       P/B  Monthly_Return  \\\n",
      "0          600839             SCCH       2010-01  0.958052        0.033537   \n",
      "1          000488             CMZY       2010-01  1.130574       -0.056075   \n",
      "2          600215             CCJK       2010-01  1.191351       -0.059113   \n",
      "3          000932             HLGT       2010-01  0.966368       -0.198175   \n",
      "4          600569             AYGT       2010-01  1.073054       -0.169580   \n",
      "...           ...              ...           ...       ...             ...   \n",
      "457361     688331             RCSW       2023-12  8.537640       -0.108205   \n",
      "457362     688050             ABYL       2023-12  8.421661       -0.120675   \n",
      "457363     300760             MRYL       2023-12  9.568779       -0.000928   \n",
      "457364     000622             HLSY       2023-12  9.508592       -0.047826   \n",
      "457365     600228             FLKJ       2023-12  9.456391       -0.026217   \n",
      "\n",
      "        last_month_P/B  \n",
      "0             0.935433  \n",
      "1             1.222098  \n",
      "2             1.262007  \n",
      "3             1.269996  \n",
      "4             1.341652  \n",
      "...                ...  \n",
      "457361        9.573547  \n",
      "457362        9.577412  \n",
      "457363        9.577669  \n",
      "457364        9.634219  \n",
      "457365        9.710986  \n",
      "\n",
      "[457366 rows x 6 columns]\n"
     ]
    },
    {
     "name": "stderr",
     "output_type": "stream",
     "text": [
      "/var/folders/8p/_lylf4tn2yz39y4qkw9vg1jw0000gn/T/ipykernel_6699/2253564952.py:7: DeprecationWarning: DataFrameGroupBy.apply operated on the grouping columns. This behavior is deprecated, and in a future version of pandas the grouping columns will be excluded from the operation. Either pass `include_groups=False` to exclude the groupings or explicitly select the grouping columns after groupby to silence this warning.\n",
      "  df_P2_ans_table_sort_PB = df_P2_ans_table_raw.groupby('Trading_Month').apply(sort_by_PB)\n"
     ]
    }
   ],
   "source": [
    "# 定义一个函数来在每个月内对数据进行排序\n",
    "def sort_by_PB(p_group):\n",
    "    p_group.sort_values(by='last_month_P/B', inplace=True)\n",
    "    return p_group\n",
    "\n",
    "# 在每个月内按上个月的P/B的大小排序\n",
    "df_P2_ans_table_sort_PB = df_P2_ans_table_raw.groupby('Trading_Month').apply(sort_by_PB)\n",
    "\n",
    "# 恢复索引\n",
    "df_P2_ans_table_sort_PB = df_P2_ans_table_sort_PB.reset_index(drop=True)\n",
    "\n",
    "print(df_P2_ans_table_sort_PB)"
   ]
  },
  {
   "cell_type": "code",
   "execution_count": 60,
   "metadata": {},
   "outputs": [],
   "source": [
    "# 在每个月内计算将各支股票按照last_month_P/B的大小分为十组\n",
    "df_P2_ans_table_sort_PB['decile'] = df_P2_ans_table_sort_PB.groupby('Trading_Month')['last_month_P/B'].transform(lambda x: pd.qcut(x, 10, labels=False))\n",
    "df_P2_ans_table_sort_PB['decile'] = df_P2_ans_table_sort_PB['decile'] + 1\n",
    "# print(df_P2_ans_table_sort_PB)\n",
    "\n",
    "# df_P2_ans_table_sort_PB.to_csv('sample.csv')\n"
   ]
  },
  {
   "cell_type": "code",
   "execution_count": 61,
   "metadata": {},
   "outputs": [
    {
     "name": "stdout",
     "output_type": "stream",
     "text": [
      "     Trading_Month  decile  Monthly_Return\n",
      "0          2010-01       1       -0.043953\n",
      "1          2010-01       2       -0.026670\n",
      "2          2010-01       3       -0.027841\n",
      "3          2010-01       4       -0.020299\n",
      "4          2010-01       5       -0.031103\n",
      "...            ...     ...             ...\n",
      "1675       2023-12       6        0.002694\n",
      "1676       2023-12       7       -0.002191\n",
      "1677       2023-12       8       -0.008941\n",
      "1678       2023-12       9       -0.017629\n",
      "1679       2023-12      10       -0.034053\n",
      "\n",
      "[1680 rows x 3 columns]\n"
     ]
    }
   ],
   "source": [
    "# 在每个月内计算同一组内的股票的平均return\n",
    "df_average_return = df_P2_ans_table_sort_PB.groupby(['Trading_Month', 'decile'])['Monthly_Return'].mean().reset_index()\n",
    "\n",
    "print(df_average_return)"
   ]
  },
  {
   "cell_type": "code",
   "execution_count": 62,
   "metadata": {},
   "outputs": [
    {
     "name": "stdout",
     "output_type": "stream",
     "text": [
      "   decile  Monthly_Return\n",
      "0       1        0.018126\n",
      "1       2        0.013249\n",
      "2       3        0.013153\n",
      "3       4        0.011617\n",
      "4       5        0.011076\n",
      "5       6        0.011053\n",
      "6       7        0.009604\n",
      "7       8        0.007719\n",
      "8       9        0.004754\n",
      "9      10       -0.013460\n"
     ]
    }
   ],
   "source": [
    "# 计算每个decile在所有月份的平均return\n",
    "df_average_return_all = df_average_return.groupby('decile')['Monthly_Return'].mean().reset_index()\n",
    "print(df_average_return_all)"
   ]
  },
  {
   "cell_type": "code",
   "execution_count": 63,
   "metadata": {},
   "outputs": [
    {
     "data": {
      "image/png": "[encoded data removed]",
      "text/plain": [
       "<Figure size 640x480 with 1 Axes>"
      ]
     },
     "metadata": {},
     "output_type": "display_data"
    }
   ],
   "source": [
    "# 用bar chart表示出来，横轴表示且标明decile，纵轴表示且标明Monthly_Return\n",
    "plt.bar(df_average_return_all['decile'], df_average_return_all['Monthly_Return'])\n",
    "plt.xlabel('Decile')\n",
    "plt.ylabel('Average Return')\n",
    "plt.title('Average Return for Each Portfolio Decile')\n",
    "plt.show()"
   ]
  }
 ],
 "metadata": {
  "kernelspec": {
   "display_name": "Python 3",
   "language": "python",
   "name": "python3"
  },
  "language_info": {
   "codemirror_mode": {
    "name": "ipython",
    "version": 3
   },
   "file_extension": ".py",
   "mimetype": "text/x-python",
   "name": "python",
   "nbconvert_exporter": "python",
   "pygments_lexer": "ipython3",
   "version": "3.10.7"
  }
 },
 "nbformat": 4,
 "nbformat_minor": 2
}
