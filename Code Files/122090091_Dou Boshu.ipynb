{
 "cells": [
  {
   "cell_type": "markdown",
   "metadata": {},
   "source": [
    "# FIN3080 Assignment 1\n",
    "#### 122090091 Dou Boshu"
   ]
  },
  {
   "cell_type": "markdown",
   "metadata": {},
   "source": [
    "---"
   ]
  },
  {
   "cell_type": "markdown",
   "metadata": {},
   "source": [
    "## Problem 1&2"
   ]
  },
  {
   "cell_type": "markdown",
   "metadata": {},
   "source": [
    "### preparation session"
   ]
  },
  {
   "cell_type": "markdown",
   "metadata": {},
   "source": [
    "Reading Data:"
   ]
  },
  {
   "cell_type": "code",
   "execution_count": 19,
   "metadata": {},
   "outputs": [],
   "source": [
    "import pandas as pd\n",
    "import numpy as np\n",
    "import matplotlib.pyplot as plt\n",
    "\n",
    "# 读取包含股价数据的表格\n",
    "df_price = pd.read_excel('/Users/douboshu/Documents/大二下/FIN3080/AS1/DATA/Monthly Stock Price  Returns195304510/TRD_Mnth.xlsx')\n",
    "# 读取包含公司经营的表格\n",
    "df_balance_sheet = pd.read_excel('/Users/douboshu/Documents/大二下/FIN3080/AS1/DATA/Balance Sheet(Merge Query)111043005/FS_Combas(Merge Query).xlsx')\n",
    "# 包含公司基本信息的表格\n",
    "df_company_profile = pd.read_excel('/Users/douboshu/Documents/大二下/FIN3080/AS1/DATA/Company Profile123854454/TRD_Co.xlsx')\n",
    "# 包含Net Assets per Share的表格\n",
    "df_Net_Assets_per_Share = pd.read_excel('/Users/douboshu/Documents/大二下/FIN3080/AS1/DATA/Net_assets_Per_Share_new/Net_Assets_Per_Share.xlsx')\n",
    "# 读取包含EPS_TTM的表格\n",
    "df_EPS_TTM = pd.read_excel('/Users/douboshu/Documents/大二下/FIN3080/AS1/DATA/TTM/TTM.xlsx')\n"
   ]
  },
  {
   "cell_type": "markdown",
   "metadata": {},
   "source": [
    "Cleaning Data:"
   ]
  },
  {
   "cell_type": "code",
   "execution_count": 20,
   "metadata": {},
   "outputs": [],
   "source": [
    "# print(df_price.head())\n",
    "# print(df_price.dtypes)\n",
    "# df_price.iloc[:, 0] = df_price.index[1]\n",
    "# df_price = df_price.drop(df_price.index[:0])\n",
    "# df_balance_sheet = df_balance_sheet.drop(1)\n",
    "# df_company_profile = df_company_profile.drop(1)\n",
    "# print(df_price)\n",
    "\n",
    "# 删除第一行数据\n",
    "df_price = df_price.drop(0)\n",
    "df_balance_sheet = df_balance_sheet.drop(0)\n",
    "df_company_profile = df_company_profile.drop(0)\n",
    "df_Net_Assets_per_Share = df_Net_Assets_per_Share.drop(0)\n",
    "df_EPS_TTM = df_EPS_TTM.drop(0)\n",
    "\n",
    "\n",
    "# 重置索引\n",
    "df_price = df_price.reset_index(drop=True)\n",
    "df_balance_sheet = df_balance_sheet.reset_index(drop=True)\n",
    "df_company_profile = df_company_profile.reset_index(drop=True)\n",
    "df_Net_Assets_per_Share = df_Net_Assets_per_Share.reset_index(drop=True)\n",
    "df_EPS_TTM = df_EPS_TTM.reset_index(drop=True)\n",
    "\n",
    "# 改变数据类型\n",
    "# df_price\n",
    "df_price['Stock_Code'] = df_price['Stock_Code'].astype('string',errors='ignore')\n",
    "df_price['Market_Value_of_Tradable_Shares'] = df_price['Market_Value_of_Tradable_Shares'].astype('float',errors='ignore')\n",
    "df_price['Monthly_Return'] = df_price['Monthly_Return'].astype('float',errors='ignore')\n",
    "df_price['Monthly_Price'] = df_price['Monthly_Price'].astype('float',errors='ignore')\n",
    "df_price['Monthly_Price'] = df_price['Monthly_Price'].astype('float',errors='ignore')\n",
    "# df_price['Trading_Month'] = pd.to_datetime(df_price['Trading_Month'], errors='coerce',format='%Y-%m')\n",
    "df_price['Trading_Month'] = df_price['Trading_Month'].astype('string', errors='ignore')\n",
    "\n",
    "# df_balance_sheet\n",
    "df_balance_sheet['Stock_Code'] = df_balance_sheet['Stock_Code'].astype('string',errors='ignore')\n",
    "# df_balance_sheet['Ending_Date'] = pd.to_datetime(df_balance_sheet['Ending_Date'], errors='coerce',format='%Y-%m-%d')\n",
    "df_balance_sheet['Ending_Date'] = df_balance_sheet['Ending_Date'].astype('string', errors='ignore')\n",
    "df_balance_sheet['Stock_Short_Name'] = df_balance_sheet['Stock_Short_Name'].astype('string', errors='ignore')\n",
    "df_balance_sheet['Statement_Type'] = df_balance_sheet['Statement_Type'].astype('string', errors='ignore')\n",
    "df_balance_sheet['Total_Assets'] = df_balance_sheet['Total_Assets'].astype('float', errors='ignore')\n",
    "df_balance_sheet['Total_Liabilities'] = df_balance_sheet['Total_Liabilities'].astype('float', errors='ignore')\n",
    "df_balance_sheet['EPS_1'] = df_balance_sheet['EPS_1'].astype('float', errors='ignore')\n",
    "df_balance_sheet['ROA_A'] = df_balance_sheet['ROA_A'].astype('float', errors='ignore')\n",
    "df_balance_sheet['ROE_A'] = df_balance_sheet['ROE_A'].astype('float', errors='ignore')\n",
    "df_balance_sheet['R&D_Expenses'] = df_balance_sheet['R&D_Expenses'].astype('float', errors='ignore')\n",
    "\n",
    "# df_company_profile\n",
    "df_company_profile['Stock_Code'] = df_company_profile['Stock_Code'].astype('string',errors='ignore')\n",
    "df_company_profile['Stock_Acronym'] = df_company_profile['Stock_Acronym'].astype('string', errors='ignore')\n",
    "df_company_profile['Date_Listed'] = pd.to_datetime(df_company_profile['Date_Listed'], errors='coerce',format='%Y-%m-%d')\n",
    "df_company_profile['Establishment_Date'] = pd.to_datetime(df_company_profile['Establishment_Date'], errors='coerce',format='%Y-%m-%d')\n",
    "# df_company_profile['Establishment_Date'] = df_company_profile['Establishment_Date'].astype('string', errors='ignore')\n",
    "df_company_profile['Market_Type'] = df_company_profile['Market_Type'].astype('string',errors='ignore')\n",
    "\n",
    "# df_Net_Assets_per_Share\n",
    "df_Net_Assets_per_Share['Stock_Code'] = df_Net_Assets_per_Share['Stock_Code'].astype('string',errors='ignore')\n",
    "df_Net_Assets_per_Share['Stock_Short_Name'] = df_Net_Assets_per_Share['Stock_Short_Name'].astype('string',errors='ignore')\n",
    "df_Net_Assets_per_Share['Ending_Date'] = df_Net_Assets_per_Share['Ending_Date'].astype('string',errors='ignore')\n",
    "df_Net_Assets_per_Share['Statement_Type'] = df_Net_Assets_per_Share['Statement_Type'].astype('string',errors='ignore')\n",
    "df_Net_Assets_per_Share['Net_Assets_per_Share'] = df_Net_Assets_per_Share['Net_Assets_per_Share'].astype('float',errors='ignore')\n",
    "\n",
    "# df_EPS_TTM\n",
    "df_EPS_TTM['Stock_Code'] = df_EPS_TTM['Stock_Code'].astype('string',errors='ignore')\n",
    "df_EPS_TTM['Stock_Short_Name'] = df_EPS_TTM['Stock_Short_Name'].astype('string',errors='ignore')\n",
    "df_EPS_TTM['Ending_Date'] = df_EPS_TTM['Ending_Date'].astype('string',errors='ignore')\n",
    "df_EPS_TTM['Statement_Type'] = df_EPS_TTM['Statement_Type'].astype('string',errors='ignore')\n",
    "df_EPS_TTM['EPS_TTM1'] = df_EPS_TTM['EPS_TTM1'].astype('float',errors='ignore')\n",
    "\n",
    "# print(df_company_profile)\n",
    "# df_company_profile.dtypes\n",
    "\n",
    "# 删除包含数值为 'B' 的元素所在的行\n",
    "df_balance_sheet = df_balance_sheet.drop(df_balance_sheet[df_balance_sheet['Statement_Type'] == 'B'].index)\n",
    "df_Net_Assets_per_Share = df_Net_Assets_per_Share.drop(df_Net_Assets_per_Share[df_Net_Assets_per_Share['Statement_Type'] == 'B'].index)\n",
    "df_EPS_TTM = df_EPS_TTM.drop(df_EPS_TTM[df_EPS_TTM['Statement_Type'] == 'B'].index)\n",
    "\n",
    "# 重置索引\n",
    "df_balance_sheet = df_balance_sheet.reset_index(drop=True)\n",
    "df_Net_Assets_per_Share = df_Net_Assets_per_Share.reset_index(drop=True)\n",
    "df_EPS_TTM = df_EPS_TTM.reset_index(drop=True)\n",
    "# print(df_EPS_TTM)\n"
   ]
  },
  {
   "cell_type": "markdown",
   "metadata": {},
   "source": [
    "Writing get_data() Function for df_price to generate lagged variables:"
   ]
  },
  {
   "cell_type": "code",
   "execution_count": 21,
   "metadata": {},
   "outputs": [],
   "source": [
    "def get_date(p_date):\n",
    "    old_year = p_date[:4]\n",
    "    old_year = int(old_year)\n",
    "    str_old_month = p_date[-2:]\n",
    "    \n",
    "    if str_old_month in ['01', '02', '03']:\n",
    "        new_year = old_year - 1  # 去年的第4季度, year_12_31\n",
    "        new_month = '12'\n",
    "        new_day = '31'\n",
    "    elif str_old_month in ['04', '05', '06']:\n",
    "        new_year = old_year   # 今年的第1季度, year_03_31\n",
    "        new_month = '03'\n",
    "        new_day = '31'\n",
    "    elif str_old_month in ['07', '08', '09']:\n",
    "        new_year = old_year   # 今年的第2季度, year_06_30\n",
    "        new_month = '06'\n",
    "        new_day = '30'\n",
    "    elif str_old_month in ['10', '11', '12']:\n",
    "        new_year = old_year  # 今年的第3季度, year_09_30\n",
    "        new_month = '09'\n",
    "        new_day = '30'\n",
    "\n",
    "    new_date = str(new_year) + '-' + new_month + '-' + new_day\n",
    "    return new_date\n",
    "\n",
    "df_price_2 = df_price.copy()\n",
    "df_price_2['Ending_Date'] = df_price_2['Trading_Month'].apply(get_date)\n",
    "# print(df_price_2)\n",
    "df_price_2['Ending_Date'] = df_price_2['Ending_Date'].astype('string',errors='ignore')\n",
    "# df_price_2.dtypes"
   ]
  },
  {
   "cell_type": "markdown",
   "metadata": {},
   "source": [
    "Merging"
   ]
  },
  {
   "cell_type": "code",
   "execution_count": 22,
   "metadata": {},
   "outputs": [
    {
     "name": "stdout",
     "output_type": "stream",
     "text": [
      "       Stock_Code Trading_Month  Monthly_Price  \\\n",
      "0          000001       2000-01          18.53   \n",
      "1          000001       2000-02          18.32   \n",
      "2          000001       2000-03          18.37   \n",
      "3          000001       2000-04          19.05   \n",
      "4          000001       2000-05          18.00   \n",
      "...           ...           ...            ...   \n",
      "679944     873593       2023-06         133.40   \n",
      "679945     873593       2023-07          86.00   \n",
      "679946     873593       2023-08          77.50   \n",
      "679947     873593       2023-09          36.06   \n",
      "679948     873665       2023-09           5.88   \n",
      "\n",
      "        Market_Value_of_Tradable_Shares  Monthly_Return Ending_Date  \\\n",
      "0                           19843822.88        0.061891  1999-12-31   \n",
      "1                           19618933.36       -0.011333  1999-12-31   \n",
      "2                           19672478.48        0.002729  1999-12-31   \n",
      "3                           20400692.17        0.037017  2000-03-31   \n",
      "4                           19276244.57       -0.055118  2000-03-31   \n",
      "...                                 ...             ...         ...   \n",
      "679944                       2396565.82        0.318182  2023-03-31   \n",
      "679945                       1545012.45       -0.355322  2023-06-30   \n",
      "679946                       1392307.73       -0.098837  2023-06-30   \n",
      "679947                       1295654.62       -0.057085  2023-06-30   \n",
      "679948                        194000.04             NaN  2023-06-30   \n",
      "\n",
      "       Stock_Short_Name_x Statement_Type_x  Total_Assets  Total_Liabilities  \\\n",
      "0                    SFZA                A  4.586897e+10       4.296814e+10   \n",
      "1                    SFZA                A  4.586897e+10       4.296814e+10   \n",
      "2                    SFZA                A  4.586897e+10       4.296814e+10   \n",
      "3                    <NA>             <NA>           NaN                NaN   \n",
      "4                    <NA>             <NA>           NaN                NaN   \n",
      "...                   ...              ...           ...                ...   \n",
      "679944               DZKJ                A  4.119192e+08       1.058129e+08   \n",
      "679945               DZKJ                A  7.563485e+08       6.834454e+07   \n",
      "679946               DZKJ                A  7.563485e+08       6.834454e+07   \n",
      "679947               DZKJ                A  7.563485e+08       6.834454e+07   \n",
      "679948               KQGF                A  5.801891e+08       1.051494e+08   \n",
      "\n",
      "        ...  Stock_Short_Name_y  Statement_Type_y  Net_Assets_per_Share  \\\n",
      "0       ...                SFZA                 A              1.869276   \n",
      "1       ...                SFZA                 A              1.869276   \n",
      "2       ...                SFZA                 A              1.869276   \n",
      "3       ...                <NA>              <NA>                   NaN   \n",
      "4       ...                <NA>              <NA>                   NaN   \n",
      "...     ...                 ...               ...                   ...   \n",
      "679944  ...                DZKJ                 A              8.817889   \n",
      "679945  ...                DZKJ                 A             14.326838   \n",
      "679946  ...                DZKJ                 A             14.326838   \n",
      "679947  ...                DZKJ                 A             14.326838   \n",
      "679948  ...                KQGF                 A              4.750872   \n",
      "\n",
      "        Stock_Short_Name Statement_Type  EPS_TTM1  Stock_Acronym Date_Listed  \\\n",
      "0                   SFZA              A  0.357761           PAYH  1991-04-03   \n",
      "1                   SFZA              A  0.357761           PAYH  1991-04-03   \n",
      "2                   SFZA              A  0.357761           PAYH  1991-04-03   \n",
      "3                   <NA>           <NA>       NaN           PAYH  1991-04-03   \n",
      "4                   <NA>           <NA>       NaN           PAYH  1991-04-03   \n",
      "...                  ...            ...       ...            ...         ...   \n",
      "679944              DZKJ              A  3.275207           DZKJ  2023-04-13   \n",
      "679945              DZKJ              A  2.093781           DZKJ  2023-04-13   \n",
      "679946              DZKJ              A  2.093781           DZKJ  2023-04-13   \n",
      "679947              DZKJ              A  2.093781           DZKJ  2023-04-13   \n",
      "679948              KQGF              A  0.659280           KQGF  2023-09-26   \n",
      "\n",
      "       Establishment_Date  Market_Type  \n",
      "0              1987-12-22            4  \n",
      "1              1987-12-22            4  \n",
      "2              1987-12-22            4  \n",
      "3              1987-12-22            4  \n",
      "4              1987-12-22            4  \n",
      "...                   ...          ...  \n",
      "679944         2008-04-16           64  \n",
      "679945         2008-04-16           64  \n",
      "679946         2008-04-16           64  \n",
      "679947         2008-04-16           64  \n",
      "679948         2001-08-23           64  \n",
      "\n",
      "[679949 rows x 24 columns]\n"
     ]
    }
   ],
   "source": [
    "# 合并 df_price_2 与 df_balance_sheet\n",
    "df_left_join_result = pd.merge(df_price_2, df_balance_sheet, on=['Stock_Code', 'Ending_Date',], how='left')\n",
    "# 再合并进 df_Net_Assets_per_Share\n",
    "df_left_join_result = pd.merge(df_left_join_result, df_Net_Assets_per_Share, on=['Stock_Code', 'Ending_Date',], how='left')\n",
    "# 再合并进 df_EPS_TTM\n",
    "df_left_join_result = pd.merge(df_left_join_result, df_EPS_TTM, on=['Stock_Code', 'Ending_Date',], how='left')\n",
    "# 再合并进 df_company_profile\n",
    "df_left_join_result = pd.merge(df_left_join_result, df_company_profile, on='Stock_Code', how='left')\n",
    "\n",
    "print(df_left_join_result)\n",
    "# df_left_join_result.dtypes"
   ]
  },
  {
   "cell_type": "markdown",
   "metadata": {},
   "source": [
    "### Problem 1 (a)"
   ]
  },
  {
   "cell_type": "markdown",
   "metadata": {},
   "source": [
    "Calculating: PE, PB, R&D/Total_Asset, Firm_Ages"
   ]
  },
  {
   "cell_type": "code",
   "execution_count": 23,
   "metadata": {},
   "outputs": [
    {
     "name": "stdout",
     "output_type": "stream",
     "text": [
      "       Stock_Code Trading_Month  Monthly_Price  \\\n",
      "0          000001       2000-01          18.53   \n",
      "1          000001       2000-02          18.32   \n",
      "2          000001       2000-03          18.37   \n",
      "3          000001       2000-04          19.05   \n",
      "4          000001       2000-05          18.00   \n",
      "...           ...           ...            ...   \n",
      "679944     873593       2023-06         133.40   \n",
      "679945     873593       2023-07          86.00   \n",
      "679946     873593       2023-08          77.50   \n",
      "679947     873593       2023-09          36.06   \n",
      "679948     873665       2023-09           5.88   \n",
      "\n",
      "        Market_Value_of_Tradable_Shares  Monthly_Return Ending_Date  \\\n",
      "0                           19843822.88        0.061891  1999-12-31   \n",
      "1                           19618933.36       -0.011333  1999-12-31   \n",
      "2                           19672478.48        0.002729  1999-12-31   \n",
      "3                           20400692.17        0.037017  2000-03-31   \n",
      "4                           19276244.57       -0.055118  2000-03-31   \n",
      "...                                 ...             ...         ...   \n",
      "679944                       2396565.82        0.318182  2023-03-31   \n",
      "679945                       1545012.45       -0.355322  2023-06-30   \n",
      "679946                       1392307.73       -0.098837  2023-06-30   \n",
      "679947                       1295654.62       -0.057085  2023-06-30   \n",
      "679948                        194000.04             NaN  2023-06-30   \n",
      "\n",
      "       Stock_Short_Name_x Statement_Type_x  Total_Assets  Total_Liabilities  \\\n",
      "0                    SFZA                A  4.586897e+10       4.296814e+10   \n",
      "1                    SFZA                A  4.586897e+10       4.296814e+10   \n",
      "2                    SFZA                A  4.586897e+10       4.296814e+10   \n",
      "3                    <NA>             <NA>           NaN                NaN   \n",
      "4                    <NA>             <NA>           NaN                NaN   \n",
      "...                   ...              ...           ...                ...   \n",
      "679944               DZKJ                A  4.119192e+08       1.058129e+08   \n",
      "679945               DZKJ                A  7.563485e+08       6.834454e+07   \n",
      "679946               DZKJ                A  7.563485e+08       6.834454e+07   \n",
      "679947               DZKJ                A  7.563485e+08       6.834454e+07   \n",
      "679948               KQGF                A  5.801891e+08       1.051494e+08   \n",
      "\n",
      "        ...  EPS_TTM1  Stock_Acronym  Date_Listed  Establishment_Date  \\\n",
      "0       ...  0.357761           PAYH   1991-04-03          1987-12-22   \n",
      "1       ...  0.357761           PAYH   1991-04-03          1987-12-22   \n",
      "2       ...  0.357761           PAYH   1991-04-03          1987-12-22   \n",
      "3       ...       NaN           PAYH   1991-04-03          1987-12-22   \n",
      "4       ...       NaN           PAYH   1991-04-03          1987-12-22   \n",
      "...     ...       ...            ...          ...                 ...   \n",
      "679944  ...  3.275207           DZKJ   2023-04-13          2008-04-16   \n",
      "679945  ...  2.093781           DZKJ   2023-04-13          2008-04-16   \n",
      "679946  ...  2.093781           DZKJ   2023-04-13          2008-04-16   \n",
      "679947  ...  2.093781           DZKJ   2023-04-13          2008-04-16   \n",
      "679948  ...  0.659280           KQGF   2023-09-26          2001-08-23   \n",
      "\n",
      "       Market_Type        P/E        P/B  \\\n",
      "0                4  51.794354   9.912929   \n",
      "1                4  51.207370   9.800586   \n",
      "2                4  51.347128   9.827334   \n",
      "3                4        NaN        NaN   \n",
      "4                4        NaN        NaN   \n",
      "...            ...        ...        ...   \n",
      "679944          64  40.730250  15.128337   \n",
      "679945          64  41.074019   6.002720   \n",
      "679946          64  37.014377   5.409428   \n",
      "679947          64  17.222432   2.516955   \n",
      "679948          64   8.918821   1.237668   \n",
      "\n",
      "       Quarterly_R&D_Expense/Total_Asset_Ratios Establishment_Date2  \\\n",
      "0                                           NaN              1987Q4   \n",
      "1                                           NaN              1987Q4   \n",
      "2                                           NaN              1987Q4   \n",
      "3                                           NaN              1987Q4   \n",
      "4                                           NaN              1987Q4   \n",
      "...                                         ...                 ...   \n",
      "679944                                 0.015305              2008Q2   \n",
      "679945                                 0.014689              2008Q2   \n",
      "679946                                 0.014689              2008Q2   \n",
      "679947                                 0.014689              2008Q2   \n",
      "679948                                 0.011775              2001Q3   \n",
      "\n",
      "        Quarterly_Firm_Ages  \n",
      "0                       145  \n",
      "1                       145  \n",
      "2                       145  \n",
      "3                       145  \n",
      "4                       145  \n",
      "...                     ...  \n",
      "679944                   63  \n",
      "679945                   63  \n",
      "679946                   63  \n",
      "679947                   63  \n",
      "679948                   90  \n",
      "\n",
      "[679949 rows x 29 columns]\n"
     ]
    }
   ],
   "source": [
    "df_left_join_result['P/E'] = df_left_join_result['Monthly_Price'] / (df_left_join_result['EPS_TTM1'])\n",
    "df_left_join_result['P/B'] = df_left_join_result['Monthly_Price'] / df_left_join_result['Net_Assets_per_Share']\n",
    "df_left_join_result['Quarterly_R&D_Expense/Total_Asset_Ratios'] = df_left_join_result['R&D_Expenses'] / df_left_join_result['Total_Assets']\n",
    "\n",
    "# 获取当前日期（忽略时间部分）\n",
    "current_date = pd.to_datetime('now').to_period('Q')\n",
    "# print(type(current_date))\n",
    "\n",
    "df_left_join_result['Establishment_Date2'] = pd.to_datetime(df_left_join_result['Establishment_Date']).dt.to_period('Q')\n",
    "df_left_join_result['Quarterly_Firm_Ages'] = (current_date - df_left_join_result['Establishment_Date2']).apply(lambda x: x.n)\n",
    "print(df_left_join_result)\n",
    "# df_left_join_result.dtypes"
   ]
  },
  {
   "cell_type": "markdown",
   "metadata": {},
   "source": [
    "### Problem 1 (b)"
   ]
  },
  {
   "cell_type": "markdown",
   "metadata": {},
   "source": [
    "Dividing by market type and generating summary statistics (observations, mean, median, p25, p75, standard deviation):"
   ]
  },
  {
   "cell_type": "code",
   "execution_count": 24,
   "metadata": {},
   "outputs": [
    {
     "name": "stdout",
     "output_type": "stream",
     "text": [
      "       Main_Monthly_Return       Main_P/E       Main_P/B     Main_ROA_A  \\\n",
      "count        152906.000000  152906.000000  152906.000000  152906.000000   \n",
      "mean              0.010593      47.613919       3.406519       0.033204   \n",
      "min              -0.882166 -190526.315789       0.054057      -3.323744   \n",
      "25%              -0.066351      10.100261       1.365159       0.009313   \n",
      "50%              -0.003401      22.319746       2.092187       0.026129   \n",
      "75%               0.067271      43.026675       3.322087       0.052952   \n",
      "max               3.503394  388333.333333    6904.761905       9.112961   \n",
      "std               0.133481    2577.798998      33.155507       0.092625   \n",
      "\n",
      "          Main_ROE_A  Main_Quarterly_R&D_Expense/Total_Asset_Ratios  \\\n",
      "count  152906.000000                                  152906.000000   \n",
      "mean        0.010845                                       0.012410   \n",
      "min      -207.397068                                      -0.002272   \n",
      "25%         0.009907                                       0.002555   \n",
      "50%         0.035310                                       0.007793   \n",
      "75%         0.075737                                       0.017138   \n",
      "max       186.686077                                       0.701556   \n",
      "std         1.787047                                       0.015617   \n",
      "\n",
      "       Main_Quarterly_Firm_Ages  \n",
      "count             152906.000000  \n",
      "mean                  98.896093  \n",
      "min                   25.000000  \n",
      "25%                   85.000000  \n",
      "50%                   99.000000  \n",
      "75%                  116.000000  \n",
      "max                  264.000000  \n",
      "std                   22.905937  \n",
      "       GEM_Monthly_Return       GEM_P/E        GEM_P/B      GEM_ROA_A  \\\n",
      "count       113574.000000  1.054990e+05  115333.000000  113412.000000   \n",
      "mean             0.012296  9.572106e+01       4.847628       0.032328   \n",
      "min             -0.863517 -6.928571e+05    -733.511140      -2.514944   \n",
      "25%             -0.084442  2.427946e+01       2.399521       0.009281   \n",
      "50%             -0.004852  4.186074e+01       3.567484       0.027263   \n",
      "75%              0.081081  7.204270e+01       5.651034       0.055510   \n",
      "max              6.399758  2.087500e+06    3484.119346       0.767166   \n",
      "std              0.181764  1.073274e+04      19.016981       0.066877   \n",
      "\n",
      "           GEM_ROE_A  GEM_Quarterly_R&D_Expense/Total_Asset_Ratios  \\\n",
      "count  113073.000000                                  72106.000000   \n",
      "mean        0.022181                                      0.020586   \n",
      "min       -96.503985                                     -0.001571   \n",
      "25%         0.010666                                      0.007198   \n",
      "50%         0.033474                                      0.014452   \n",
      "75%         0.068780                                      0.026009   \n",
      "max         5.315913                                      2.695974   \n",
      "std         0.559839                                      0.025020   \n",
      "\n",
      "       GEM_Quarterly_Firm_Ages  \n",
      "count            115484.000000  \n",
      "mean                 85.273337  \n",
      "min                  24.000000  \n",
      "25%                  73.000000  \n",
      "50%                  85.000000  \n",
      "75%                  96.000000  \n",
      "max                 172.000000  \n",
      "std                  19.820069  \n"
     ]
    }
   ],
   "source": [
    "# 根据 'Market_Type' 划分为 'main board' 和 'GEM'\n",
    "main_board_data = df_left_join_result[df_left_join_result['Market_Type'].isin(['1', '4', '64'])]\n",
    "gem_data = df_left_join_result[df_left_join_result['Market_Type'].isin(['16', '32'])]\n",
    "\n",
    "# print(main_board_data)\n",
    "# print(gem_data)\n",
    "\n",
    "summary_main_board = main_board_data.dropna().describe()\n",
    "summary_gem_board = gem_data.describe()\n",
    "summary_main_board = summary_main_board[['Monthly_Return', 'P/E', 'P/B', 'ROA_A', 'ROE_A', 'Quarterly_R&D_Expense/Total_Asset_Ratios', 'Quarterly_Firm_Ages']]\n",
    "summary_gem_board = summary_gem_board[['Monthly_Return', 'P/E', 'P/B', 'ROA_A', 'ROE_A', 'Quarterly_R&D_Expense/Total_Asset_Ratios', 'Quarterly_Firm_Ages']]\n",
    "\n",
    "new_Main_column_names = {'Monthly_Return': 'Main_Monthly_Return', 'P/E': 'Main_P/E', 'P/B': 'Main_P/B', 'ROA_A': 'Main_ROA_A', 'ROE_A': 'Main_ROE_A',\n",
    "                         'Quarterly_R&D_Expense/Total_Asset_Ratios': 'Main_Quarterly_R&D_Expense/Total_Asset_Ratios', 'Quarterly_Firm_Ages': 'Main_Quarterly_Firm_Ages'}\n",
    "\n",
    "new_GEM_column_names = {'Monthly_Return': 'GEM_Monthly_Return', 'P/E': 'GEM_P/E', 'P/B': 'GEM_P/B', 'ROA_A': 'GEM_ROA_A', 'ROE_A': 'GEM_ROE_A',\n",
    "                         'Quarterly_R&D_Expense/Total_Asset_Ratios': 'GEM_Quarterly_R&D_Expense/Total_Asset_Ratios', 'Quarterly_Firm_Ages': 'GEM_Quarterly_Firm_Ages'}\n",
    "\n",
    "summary_main_board = summary_main_board.rename(columns=new_Main_column_names)\n",
    "summary_gem_board = summary_gem_board.rename(columns=new_GEM_column_names)\n",
    "\n",
    "print(summary_main_board)\n",
    "print(summary_gem_board)\n"
   ]
  },
  {
   "cell_type": "markdown",
   "metadata": {},
   "source": [
    "### Problem 2"
   ]
  },
  {
   "cell_type": "markdown",
   "metadata": {},
   "source": [
    "Plotting:"
   ]
  },
  {
   "cell_type": "code",
   "execution_count": 25,
   "metadata": {},
   "outputs": [
    {
     "name": "stderr",
     "output_type": "stream",
     "text": [
      "/var/folders/8p/_lylf4tn2yz39y4qkw9vg1jw0000gn/T/ipykernel_10772/3930701365.py:2: SettingWithCopyWarning: \n",
      "A value is trying to be set on a copy of a slice from a DataFrame.\n",
      "Try using .loc[row_indexer,col_indexer] = value instead\n",
      "\n",
      "See the caveats in the documentation: https://pandas.pydata.org/pandas-docs/stable/user_guide/indexing.html#returning-a-view-versus-a-copy\n",
      "  main_board_data['Trading_Month'] = pd.to_datetime(main_board_data['Trading_Month'])\n",
      "/var/folders/8p/_lylf4tn2yz39y4qkw9vg1jw0000gn/T/ipykernel_10772/3930701365.py:3: SettingWithCopyWarning: \n",
      "A value is trying to be set on a copy of a slice from a DataFrame.\n",
      "Try using .loc[row_indexer,col_indexer] = value instead\n",
      "\n",
      "See the caveats in the documentation: https://pandas.pydata.org/pandas-docs/stable/user_guide/indexing.html#returning-a-view-versus-a-copy\n",
      "  gem_data['Trading_Month'] = pd.to_datetime(gem_data['Trading_Month'])\n"
     ]
    },
    {
     "data": {
      "image/png": "[encoded data removed]",
      "text/plain": [
       "<Figure size 1000x600 with 1 Axes>"
      ]
     },
     "metadata": {},
     "output_type": "display_data"
    }
   ],
   "source": [
    "# 将 'Trading_Month' 列转换为 datetime 类型\n",
    "main_board_data['Trading_Month'] = pd.to_datetime(main_board_data['Trading_Month'])\n",
    "gem_data['Trading_Month'] = pd.to_datetime(gem_data['Trading_Month'])\n",
    "\n",
    "# 计算两个市场类型的中位数 P/E 比率\n",
    "median_pe_main_board = main_board_data.groupby('Trading_Month')['P/E'].median()\n",
    "median_pe_gem = gem_data.groupby('Trading_Month')['P/E'].median()\n",
    "\n",
    "# 绘制时间序列图\n",
    "plt.figure(figsize=(10, 6))\n",
    "plt.plot(median_pe_main_board.index, median_pe_main_board, label='Main Board', marker='o')\n",
    "plt.plot(median_pe_gem.index, median_pe_gem, label='GEM', marker='o')\n",
    "\n",
    "# 添加标签和标题\n",
    "plt.xlabel('Trading Month')\n",
    "plt.ylabel('Median P/E Ratio')\n",
    "plt.title('Time Series of Median P/E Ratio by Market Type')\n",
    "plt.legend()\n",
    "\n",
    "# show\n",
    "plt.show()"
   ]
  },
  {
   "cell_type": "markdown",
   "metadata": {},
   "source": [
    "### Problem 3"
   ]
  },
  {
   "cell_type": "markdown",
   "metadata": {},
   "source": [
    "Reading Data & Cleaning Data:"
   ]
  },
  {
   "cell_type": "code",
   "execution_count": 44,
   "metadata": {},
   "outputs": [
    {
     "name": "stdout",
     "output_type": "stream",
     "text": [
      "       Symbol     EndDate  TotalRevenue    ROEC\n",
      "0           1  2000-12-31  1.431286e+09  0.1326\n",
      "1           1  2001-12-31  2.118441e+09  0.0962\n",
      "2           1  2002-12-31  3.077099e+09  0.1169\n",
      "3           1  2003-12-31  3.128836e+09  0.0819\n",
      "4           1  2004-12-31  4.480811e+09  0.0670\n",
      "...       ...         ...           ...     ...\n",
      "57266  900957  2018-12-31  1.061131e+08  0.0633\n",
      "57267  900957  2019-12-31  1.050223e+08  0.0546\n",
      "57268  900957  2020-12-31  9.940559e+07  0.0448\n",
      "57269  900957  2021-12-31  1.130710e+08  0.0539\n",
      "57270  900957  2022-12-31  1.199133e+08  0.0742\n",
      "\n",
      "[57271 rows x 4 columns]\n",
      "       Symbol    EndDate  TotalRevenue    ROEC\n",
      "0           1 2010-12-31  1.756183e+10  0.2342\n",
      "1           1 2011-12-31  2.908733e+10  0.1914\n",
      "2           1 2012-12-31  3.891140e+10  0.1687\n",
      "3           1 2013-12-31  5.129400e+10  0.1547\n",
      "4           1 2014-12-31  7.063700e+10  0.1630\n",
      "...       ...        ...           ...     ...\n",
      "33395  900957 2016-12-31  8.062995e+07  0.0075\n",
      "33396  900957 2017-12-31  9.811317e+07  0.0734\n",
      "33397  900957 2018-12-31  1.061131e+08  0.0633\n",
      "33398  900957 2019-12-31  1.050223e+08  0.0546\n",
      "33399  900957 2020-12-31  9.940559e+07  0.0448\n",
      "\n",
      "[33400 rows x 4 columns]\n"
     ]
    }
   ],
   "source": [
    "# # 设置 Pandas 显示选项，显示所有行和列\n",
    "# pd.set_option('display.max_rows', None)  # 显示所有行\n",
    "# pd.set_option('display.max_columns', None)  # 显示所有列\n",
    "\n",
    "# # 恢复默认显示选项\n",
    "# pd.reset_option('display.max_rows')\n",
    "# pd.reset_option('display.max_columns')\n",
    "\n",
    "\n",
    "df_problem3_data = pd.read_csv('/Users/douboshu/Documents/大二下/FIN3080/AS1/DATA/problem3_data.csv')\n",
    "print(df_problem3_data)\n",
    "df_problem3_data.dtypes\n",
    "\n",
    "# 将日期列转换为 datetime 类型\n",
    "df_problem3_data['EndDate'] = pd.to_datetime(df_problem3_data['EndDate'])\n",
    "df_problem3_data.dtypes\n",
    "\n",
    "# 筛选出指定日期范围的数据（2011 年至 2020 年）\n",
    "start_date = pd.to_datetime('2010-12-31')\n",
    "end_date = pd.to_datetime('2020-12-31')\n",
    "df_filtered_data = df_problem3_data[(df_problem3_data['EndDate'] >= start_date) & (df_problem3_data['EndDate'] <= end_date)]\n",
    "df_filtered_data = df_filtered_data.reset_index(drop=True)\n",
    "print(df_filtered_data)"
   ]
  },
  {
   "cell_type": "markdown",
   "metadata": {},
   "source": [
    "Generating median for ROE and Growth Rate"
   ]
  },
  {
   "cell_type": "code",
   "execution_count": 45,
   "metadata": {},
   "outputs": [
    {
     "name": "stdout",
     "output_type": "stream",
     "text": [
      "       Symbol    EndDate  TotalRevenue    ROEC  Year  Company_Growth_Rate\n",
      "0           1 2010-12-31  1.756183e+10  0.2342  2010                  NaN\n",
      "1           1 2011-12-31  2.908733e+10  0.1914  2011             0.656281\n",
      "2           1 2012-12-31  3.891140e+10  0.1687  2012             0.337744\n",
      "3           1 2013-12-31  5.129400e+10  0.1547  2013             0.318226\n",
      "4           1 2014-12-31  7.063700e+10  0.1630  2014             0.377101\n",
      "...       ...        ...           ...     ...   ...                  ...\n",
      "33395  900957 2016-12-31  8.062995e+07  0.0075  2016             0.548425\n",
      "33396  900957 2017-12-31  9.811317e+07  0.0734  2017             0.216833\n",
      "33397  900957 2018-12-31  1.061131e+08  0.0633  2018             0.081537\n",
      "33398  900957 2019-12-31  1.050223e+08  0.0546  2019            -0.010279\n",
      "33399  900957 2020-12-31  9.940559e+07  0.0448  2020            -0.053481\n",
      "\n",
      "[33400 rows x 6 columns]\n"
     ]
    },
    {
     "name": "stderr",
     "output_type": "stream",
     "text": [
      "/var/folders/8p/_lylf4tn2yz39y4qkw9vg1jw0000gn/T/ipykernel_10772/3912085895.py:6: FutureWarning: The default fill_method='pad' in Series.pct_change is deprecated and will be removed in a future version. Either fill in any non-leading NA values prior to calling pct_change or specify 'fill_method=None' to not fill NA values.\n",
      "  df_filtered_data['Company_Growth_Rate'] = df_filtered_data['TotalRevenue'].pct_change()\n"
     ]
    }
   ],
   "source": [
    "# 生成一列专门写Year\n",
    "df_filtered_data['Year'] = df_filtered_data['EndDate'].dt.year\n",
    "# print(df_filtered_data)\n",
    "\n",
    "# 计算每家公司每年的总收入增长率\n",
    "df_filtered_data['Company_Growth_Rate'] = df_filtered_data['TotalRevenue'].pct_change()\n",
    "print(df_filtered_data)\n",
    "\n",
    "\n",
    "# 计算每年的 ROE 中位数并将结果转化为dataframe\n",
    "Annual_ROE_Median = df_filtered_data.groupby('Year')['ROEC'].median()\n",
    "df_A_R_M = Annual_ROE_Median.to_frame()\n",
    "df_A_R_M = df_A_R_M.iloc[1: , :]\n",
    "# print(df_A_R_M)\n",
    "\n",
    "\n",
    "\n",
    "# 计算每年公司增长率的中位数并将结果转化为dataframe\n",
    "Annual_Median_Growth_Rate = df_filtered_data.groupby('Year')['Company_Growth_Rate'].median()\n",
    "df_A_M_G_R = Annual_Median_Growth_Rate.to_frame()\n",
    "df_A_M_G_R = df_A_M_G_R.iloc[1: , :]\n",
    "# print(df_A_M_G_R)"
   ]
  },
  {
   "cell_type": "markdown",
   "metadata": {},
   "source": [
    "Cleaning the result dataframes"
   ]
  },
  {
   "cell_type": "code",
   "execution_count": 46,
   "metadata": {},
   "outputs": [
    {
     "name": "stdout",
     "output_type": "stream",
     "text": [
      "   Year    ROEC\n",
      "0  2011  0.0912\n",
      "1  2012  0.0731\n",
      "2  2013  0.0684\n",
      "3  2014  0.0701\n",
      "4  2015  0.0689\n",
      "5  2016  0.0753\n",
      "6  2017  0.0819\n",
      "7  2018  0.0701\n",
      "8  2019  0.0718\n",
      "9  2020  0.0781\n",
      "   Year  Company_Growth_Rate\n",
      "0  2011             0.160729\n",
      "1  2012             0.059488\n",
      "2  2013             0.105678\n",
      "3  2014             0.075344\n",
      "4  2015             0.031322\n",
      "5  2016             0.099070\n",
      "6  2017             0.160024\n",
      "7  2018             0.107928\n",
      "8  2019             0.066351\n",
      "9  2020             0.038987\n"
     ]
    }
   ],
   "source": [
    "df_filtered_data = df_filtered_data.drop(0)\n",
    "df_filtered_data2 = df_filtered_data.copy()\n",
    "df_filtered_data3 = df_filtered_data.copy()\n",
    "\n",
    "df_A_R_M = df_A_R_M.reset_index()\n",
    "df_A_M_G_R = df_A_M_G_R.reset_index()\n",
    "print(df_A_R_M)\n",
    "print(df_A_M_G_R)"
   ]
  },
  {
   "cell_type": "markdown",
   "metadata": {},
   "source": [
    "Calculating the percentage of firms constantly beating market median factors:"
   ]
  },
  {
   "cell_type": "code",
   "execution_count": 47,
   "metadata": {},
   "outputs": [
    {
     "name": "stdout",
     "output_type": "stream",
     "text": [
      "0.0912\n",
      "2363\n",
      "1161\n",
      "851\n",
      "709\n",
      "608\n",
      "494\n",
      "415\n",
      "346\n",
      "296\n",
      "258\n"
     ]
    }
   ],
   "source": [
    "print(df_A_R_M.iloc[0, 1])\n",
    "\n",
    "# ROE\n",
    "percent_lst_ROE = []\n",
    "for i in range(2011, 2021):\n",
    "    df_data_current_year = df_filtered_data2[df_filtered_data2['Year'] == i]\n",
    "    num_of_company = len(df_filtered_data[df_filtered_data['Year'] == i])\n",
    "    # print(num_of_company)\n",
    "    print(len(df_filtered_data2[df_filtered_data2['Year'] == i]))\n",
    "    # print(df_data_current_year,'df_data_current_year')\n",
    "    df_data_2011_ROE = df_data_current_year[df_data_current_year['ROEC'] >= df_A_R_M.iloc[i-2011, 1]]\n",
    "    # print(df_data_2011_ROE,'df_data_2011_ROE')\n",
    "    df_filtered_data2 = df_filtered_data2[df_filtered_data2['Symbol'].isin(df_data_2011_ROE['Symbol'])]\n",
    "    percent_lst_ROE.append(df_data_2011_ROE.shape[0]/num_of_company)\n",
    "# print(percent_lst_ROE,'ROE')\n",
    "\n",
    "\n",
    "# Growth Rate\n",
    "percent_lst_GR = []\n",
    "for i in range(2011, 2021):\n",
    "    df_data_current_year = df_filtered_data3[df_filtered_data3['Year'] == i]\n",
    "    num_of_company = len(df_filtered_data[df_filtered_data['Year'] == i])\n",
    "    # print(df_data_current_year,'df_data_current_year')\n",
    "    df_data_2011_GR = df_data_current_year[df_data_current_year['Company_Growth_Rate'] >= df_A_M_G_R.iloc[i-2011, 1]]\n",
    "    # print(data_2011_company,'data_2011_company')\n",
    "    df_filtered_data3 = df_filtered_data3[df_filtered_data3['Symbol'].isin(df_data_2011_GR['Symbol'])]\n",
    "    percent_lst_GR.append(df_data_2011_GR.shape[0]/num_of_company)\n",
    "# print(percent_lst_GR,'GR')"
   ]
  },
  {
   "cell_type": "code",
   "execution_count": 35,
   "metadata": {},
   "outputs": [
    {
     "data": {
      "image/png": "[encoded data removed]",
      "text/plain": [
       "<Figure size 640x480 with 1 Axes>"
      ]
     },
     "metadata": {},
     "output_type": "display_data"
    }
   ],
   "source": [
    "years = list(range(2011, 2021))\n",
    "\n",
    "# 画折线图\n",
    "plt.plot(years, percent_lst_ROE, label='Proportion of firms beating ROE')\n",
    "plt.plot(years, percent_lst_GR, label='Proportion of firms beating Revenue Growth')\n",
    "\n",
    "# 添加网格\n",
    "plt.grid(True)\n",
    "\n",
    "# 添加标签和标题\n",
    "plt.xlabel('Year')\n",
    "plt.ylabel('Proportion')\n",
    "plt.title('Proportion of Firms Consistently Beating Market Median Factors')\n",
    "plt.legend()  # 添加图例\n",
    "\n",
    "# 设置横轴刻度\n",
    "plt.xticks(years)\n",
    "\n",
    "# Show\n",
    "plt.show()\n"
   ]
  }
 ],
 "metadata": {
  "kernelspec": {
   "display_name": "Python 3",
   "language": "python",
   "name": "python3"
  },
  "language_info": {
   "codemirror_mode": {
    "name": "ipython",
    "version": 3
   },
   "file_extension": ".py",
   "mimetype": "text/x-python",
   "name": "python",
   "nbconvert_exporter": "python",
   "pygments_lexer": "ipython3",
   "version": "3.10.7"
  }
 },
 "nbformat": 4,
 "nbformat_minor": 2
}
